{
 "cells": [
  {
   "cell_type": "code",
   "execution_count": 1,
   "metadata": {},
   "outputs": [],
   "source": [
    "import csv\n",
    "\n",
    "def process_csv(filename):\n",
    "    exampleFile = open(filename, encoding=\"utf-8\")\n",
    "    exampleReader = csv.reader(exampleFile)\n",
    "    exampleData = list(exampleReader)\n",
    "    exampleFile.close()\n",
    "    return exampleData\n",
    "\n",
    "# use process_csv to pull out the header and data rows\n",
    "csv_rows = process_csv(\"wine.csv\")\n",
    "csv_header = csv_rows[0]\n",
    "csv_data = csv_rows[1:]"
   ]
  },
  {
   "cell_type": "code",
   "execution_count": 2,
   "metadata": {},
   "outputs": [],
   "source": [
    "# headers of the csv file\n",
    "csv_header"
   ]
  },
  {
   "cell_type": "code",
   "execution_count": 3,
   "metadata": {},
   "outputs": [],
   "source": [
    "# return cell from table\n",
    "def cell(row_idx, col_name):\n",
    "    col_idx = csv_header.index(col_name)\n",
    "    val = csv_data[row_idx][col_idx]\n",
    "    if val == \"\":\n",
    "        return None\n",
    "    if col_name == 'points':\n",
    "        return int(val)\n",
    "    elif col_name == 'price':\n",
    "        return float(val)\n",
    "    else:\n",
    "        return val"
   ]
  },
  {
   "cell_type": "code",
   "execution_count": 25,
   "metadata": {},
   "outputs": [
    {
     "data": {
      "text/plain": [
       "['US',\n",
       " 'Spain',\n",
       " 'France',\n",
       " 'Italy',\n",
       " 'New Zealand',\n",
       " 'Bulgaria',\n",
       " 'Argentina',\n",
       " 'Australia',\n",
       " 'Portugal',\n",
       " 'Israel',\n",
       " 'South Africa',\n",
       " 'Greece',\n",
       " 'Chile',\n",
       " 'Morocco',\n",
       " 'Romania',\n",
       " 'Germany',\n",
       " 'Canada',\n",
       " 'Moldova',\n",
       " 'Hungary',\n",
       " 'Austria',\n",
       " 'Croatia',\n",
       " 'Slovenia',\n",
       " 'India']"
      ]
     },
     "execution_count": 25,
     "metadata": {},
     "output_type": "execute_result"
    }
   ],
   "source": [
    "# returns all of the countries in the dataset\n",
    "countries = []\n",
    "\n",
    "for i in range(len(csv_data)):\n",
    "    country = csv_data[i][0]\n",
    "    if country == '':\n",
    "        continue\n",
    "    if country not in countries:\n",
    "        countries.append(country)\n",
    "    else:\n",
    "        continue\n",
    "countries"
   ]
  },
  {
   "cell_type": "code",
   "execution_count": 31,
   "metadata": {},
   "outputs": [
    {
     "data": {
      "text/plain": [
       "89.65489673550967"
      ]
     },
     "execution_count": 31,
     "metadata": {},
     "output_type": "execute_result"
    }
   ],
   "source": [
    "# avg rating for wines in the dataset\n",
    "total = 0\n",
    "for i in range(len(csv_data)):\n",
    "    p = cell(i, 'points')\n",
    "    if p == '':\n",
    "        continue\n",
    "    total = total + p\n",
    "    avg = total / len(csv_data)\n",
    "avg"
   ]
  },
  {
   "cell_type": "code",
   "execution_count": 30,
   "metadata": {},
   "outputs": [
    {
     "data": {
      "text/plain": [
       "['Waterkloof',\n",
       " 'Bouchard Finlayson',\n",
       " 'Vergelegen',\n",
       " 'Fat Barrel',\n",
       " 'Long Neck',\n",
       " 'Graham Beck',\n",
       " 'Essay',\n",
       " 'Noble Hill',\n",
       " 'Robertson Winery',\n",
       " 'Neil Ellis',\n",
       " 'KWV']"
      ]
     },
     "execution_count": 30,
     "metadata": {},
     "output_type": "execute_result"
    }
   ],
   "source": [
    "# listing the wineries in South Africa\n",
    "wineries_in_south_africa = []\n",
    "for i in range(len(csv_data)):\n",
    "    country = csv_data[i][0]\n",
    "    winery = csv_data[i][4]\n",
    "    if country.lower() == 'south africa':\n",
    "        if winery not in wineries_in_south_africa:\n",
    "            wineries_in_south_africa.append(winery)\n",
    "wineries_in_south_africa"
   ]
  },
  {
   "cell_type": "code",
   "execution_count": 29,
   "metadata": {},
   "outputs": [
    {
     "data": {
      "text/plain": [
       "['Rhône-style White Blend', 'Chardonnay', 'White Blend', 'Syrah']"
      ]
     },
     "execution_count": 29,
     "metadata": {},
     "output_type": "execute_result"
    }
   ],
   "source": [
    "# varieties of wine that contain 'carmelized' in their description\n",
    "caramelized = []\n",
    "for i in range(len(csv_data)):\n",
    "    variety = csv_data[i][3]\n",
    "    description = csv_data[i][5]\n",
    "    if 'caramelized' in description.lower():\n",
    "        if variety not in caramelized:\n",
    "            caramelized.append(variety)\n",
    "caramelized"
   ]
  },
  {
   "cell_type": "code",
   "execution_count": 32,
   "metadata": {},
   "outputs": [
    {
     "data": {
      "text/plain": [
       "['Pinot Grigio', 'Chardonnay', 'Sparkling Blend']"
      ]
     },
     "execution_count": 32,
     "metadata": {},
     "output_type": "execute_result"
    }
   ],
   "source": [
    "# varieties of wine that have 'lemon-lime soda' in their description\n",
    "lemon_lime = []\n",
    "for i in range(len(csv_data)):\n",
    "    variety = csv_data[i][3]\n",
    "    description = csv_data[i][5]\n",
    "    if 'lemon-lime soda' in description.lower():\n",
    "        if variety not in lemon_lime:\n",
    "            lemon_lime.append(variety)\n",
    "lemon_lime"
   ]
  },
  {
   "cell_type": "code",
   "execution_count": 33,
   "metadata": {},
   "outputs": [
    {
     "data": {
      "text/plain": [
       "['Rosé', 'Nebbiolo', 'Cabernet Sauvignon']"
      ]
     },
     "execution_count": 33,
     "metadata": {},
     "output_type": "execute_result"
    }
   ],
   "source": [
    "# wines with 'cherry-berry' in their description\n",
    "cherry_berry = []\n",
    "for i in range(len(csv_data)):\n",
    "    variety = csv_data[i][3]\n",
    "    description = csv_data[i][5]\n",
    "    if 'cherry-berry' in description.lower():\n",
    "        if variety not in cherry_berry:\n",
    "            cherry_berry.append(variety)\n",
    "cherry_berry"
   ]
  },
  {
   "cell_type": "code",
   "execution_count": 35,
   "metadata": {},
   "outputs": [],
   "source": [
    "# returns the varieties that are anagrams of a specified word\n",
    "def anagram(word):\n",
    "    antibus = []\n",
    "    for i in range(len(csv_data)):\n",
    "        variety = csv_data[i][3]\n",
    "        s_variety = variety.replace(' ', '').lower()\n",
    "        if sorted(s_variety) == sorted(word):\n",
    "            if variety not in antibus:\n",
    "                antibus.append(variety)\n",
    "    return antibus"
   ]
  },
  {
   "cell_type": "code",
   "execution_count": 40,
   "metadata": {},
   "outputs": [
    {
     "data": {
      "text/plain": [
       "['Cabernet Sauvignon']"
      ]
     },
     "execution_count": 40,
     "metadata": {},
     "output_type": "execute_result"
    }
   ],
   "source": [
    "# varieties with anagram of 'anitbus governance'\n",
    "anagram('antibusgovernance')"
   ]
  },
  {
   "cell_type": "code",
   "execution_count": 39,
   "metadata": {},
   "outputs": [
    {
     "data": {
      "text/plain": [
       "['Tempranillo Blend']"
      ]
     },
     "execution_count": 39,
     "metadata": {},
     "output_type": "execute_result"
    }
   ],
   "source": [
    "# varieties with anagram of 'Banned Petrol Mill'\n",
    "anagram('bannedpetrolmill')"
   ]
  },
  {
   "cell_type": "code",
   "execution_count": 38,
   "metadata": {},
   "outputs": [
    {
     "data": {
      "text/plain": [
       "['Hall']"
      ]
     },
     "execution_count": 38,
     "metadata": {},
     "output_type": "execute_result"
    }
   ],
   "source": [
    "# winery that produced the highest priced wine in the US\n",
    "us_price = []\n",
    "us_highest = []\n",
    "for i in range(len(csv_data)):\n",
    "    country = csv_data[i][0]\n",
    "    price = cell(i, 'price')\n",
    "    winery = csv_data[i][4]\n",
    "    if price == None:\n",
    "        continue\n",
    "    if country == 'US':\n",
    "        us_price.append(price)\n",
    "        m_price = max(us_price)\n",
    "        \n",
    "for i in range(len(csv_data)):\n",
    "    price = cell(i, 'price')\n",
    "    winery = csv_data[i][4]\n",
    "    if price == None:\n",
    "        continue\n",
    "    if country == 'US':\n",
    "        if price == m_price:\n",
    "            us_highest.append(winery)\n",
    "us_highest"
   ]
  },
  {
   "cell_type": "code",
   "execution_count": 41,
   "metadata": {},
   "outputs": [
    {
     "data": {
      "text/plain": [
       "['Provence red blend', 'Tannat', 'Malbec']"
      ]
     },
     "execution_count": 41,
     "metadata": {},
     "output_type": "execute_result"
    }
   ],
   "source": [
    "# highest rated wine varieties in France\n",
    "france_points = []\n",
    "france_highest = []\n",
    "for i in range(len(csv_data)):\n",
    "    country = csv_data[i][0]\n",
    "    points = cell(i, 'points')\n",
    "    variety = csv_data[i][3] \n",
    "    if country == 'France':\n",
    "        france_points.append(points)\n",
    "        m_points = max(france_points)\n",
    "        if points == m_points:\n",
    "            france_highest.append(variety)\n",
    "france_highest"
   ]
  },
  {
   "cell_type": "code",
   "execution_count": 42,
   "metadata": {},
   "outputs": [
    {
     "data": {
      "text/plain": [
       "1.288074888074888"
      ]
     },
     "execution_count": 42,
     "metadata": {},
     "output_type": "execute_result"
    }
   ],
   "source": [
    "# the avg points per dollar of the Ponzi winery\n",
    "ppd_ponzi = []\n",
    "for i in range(len(csv_data)):\n",
    "    winery = csv_data[i][4]\n",
    "    points = cell(i, 'points')\n",
    "    price = cell(i, 'price')\n",
    "    if winery == 'Ponzi':\n",
    "        ppd_ponzi.append(points/price)\n",
    "        total = sum(ppd_ponzi)\n",
    "        avg = total / len(ppd_ponzi)\n",
    "avg"
   ]
  },
  {
   "cell_type": "code",
   "execution_count": 43,
   "metadata": {},
   "outputs": [
    {
     "data": {
      "text/plain": [
       "1.3628968253968254"
      ]
     },
     "execution_count": 43,
     "metadata": {},
     "output_type": "execute_result"
    }
   ],
   "source": [
    "# avg points per dollar of the Blue Farm winery\n",
    "ppd_bfarm = []\n",
    "for i in range(len(csv_data)):\n",
    "    winery = csv_data[i][4]\n",
    "    points = cell(i, 'points')\n",
    "    price = cell(i, 'price')\n",
    "    if winery == 'Blue Farm':\n",
    "        ppd_bfarm.append(points/price)\n",
    "        total = sum(ppd_bfarm)\n",
    "        avg = total / len(ppd_bfarm)\n",
    "avg"
   ]
  },
  {
   "cell_type": "code",
   "execution_count": 50,
   "metadata": {},
   "outputs": [
    {
     "data": {
      "text/plain": [
       "'Kumeu River'"
      ]
     },
     "execution_count": 50,
     "metadata": {},
     "output_type": "execute_result"
    }
   ],
   "source": [
    "# winery in New Zealand with the lowest average points per dollar\n",
    "ppd_nz = []\n",
    "mi_nz = []\n",
    "\n",
    "for i in range(len(csv_data)):\n",
    "    winery = csv_data[i][4]\n",
    "    points = cell(i, 'points')\n",
    "    price = cell(i, 'price')\n",
    "    country = csv_data[i][0]\n",
    "    if country == 'New Zealand':\n",
    "        ppd_nz.append(points/price) \n",
    "        m_nz = min(ppd_nz)\n",
    "        \n",
    "for i in range(len(csv_data)):\n",
    "    winery = csv_data[i][4]\n",
    "    points = cell(i, 'points')\n",
    "    price = cell(i, 'price')\n",
    "    country = csv_data[i][0]\n",
    "    if country == 'New Zealand':\n",
    "        if points / price == m_nz and winery not in mi_nz:\n",
    "            mi_nz.append(winery)\n",
    "if len(mi_nz) == 1:\n",
    "    low = mi_nz[0]\n",
    "else:\n",
    "    low = mi_nz\n",
    "low"
   ]
  },
  {
   "cell_type": "code",
   "execution_count": 49,
   "metadata": {},
   "outputs": [
    {
     "data": {
      "text/plain": [
       "[\"D'Arenberg\", 'Dalrymple']"
      ]
     },
     "execution_count": 49,
     "metadata": {},
     "output_type": "execute_result"
    }
   ],
   "source": [
    "# lowest average points per dollar in Australia \n",
    "ppd_au = []\n",
    "mi_au = []\n",
    "\n",
    "for i in range(len(csv_data)):\n",
    "    winery = csv_data[i][4]\n",
    "    points = cell(i, 'points')\n",
    "    price = cell(i, 'price')\n",
    "    country = csv_data[i][0]\n",
    "    if country == 'Australia':\n",
    "        ppd_au.append(points/price) \n",
    "        m_au = min(ppd_au)\n",
    "        \n",
    "for i in range(len(csv_data)):\n",
    "    winery = csv_data[i][4]\n",
    "    points = cell(i, 'points')\n",
    "    price = cell(i, 'price')\n",
    "    country = csv_data[i][0]\n",
    "    if country == 'Australia':\n",
    "        if points / price == m_au and winery not in mi_au:\n",
    "            mi_au.append(winery)\n",
    "if len(mi_au) == 1:\n",
    "    low = mi_au[0]\n",
    "else:\n",
    "    low = mi_au\n",
    "low"
   ]
  },
  {
   "cell_type": "code",
   "execution_count": 48,
   "metadata": {},
   "outputs": [
    {
     "data": {
      "text/plain": [
       "'Mission Hill'"
      ]
     },
     "execution_count": 48,
     "metadata": {},
     "output_type": "execute_result"
    }
   ],
   "source": [
    "# lowest avg points per dollar in Canada\n",
    "ppd_ca = []\n",
    "mi_ca = []\n",
    "\n",
    "for i in range(len(csv_data)):\n",
    "    winery = csv_data[i][4]\n",
    "    points = cell(i, 'points')\n",
    "    price = cell(i, 'price')\n",
    "    country = csv_data[i][0]\n",
    "    if country == 'Canada':\n",
    "        ppd_ca.append(points/price) \n",
    "        m_ca = min(ppd_ca)\n",
    "        \n",
    "for i in range(len(csv_data)):\n",
    "    winery = csv_data[i][4]\n",
    "    points = cell(i, 'points')\n",
    "    price = cell(i, 'price')\n",
    "    country = csv_data[i][0]\n",
    "    if country == 'Canada':\n",
    "        if points / price == m_ca and winery not in mi_ca:\n",
    "            mi_ca.append(winery)\n",
    "if len(mi_ca) == 1:\n",
    "    low = mi_ca[0]\n",
    "else:\n",
    "    low = mi_ca\n",
    "low"
   ]
  },
  {
   "cell_type": "code",
   "execution_count": 57,
   "metadata": {},
   "outputs": [
    {
     "data": {
      "text/plain": [
       "['Portuguese Red', 'Portuguese Sparkling', 'Touriga Nacional']"
      ]
     },
     "execution_count": 57,
     "metadata": {},
     "output_type": "execute_result"
    }
   ],
   "source": [
    "# wine varieties produced by Global Wines\n",
    "g_wines = []\n",
    "for i in range(len(csv_data)):\n",
    "    winery = csv_data[i][4]\n",
    "    variety = csv_data[i][3]\n",
    "    if winery == 'Global Wines':\n",
    "        g_wines.append(variety)\n",
    "        g_wines = list(set(g_wines))\n",
    "g_wines"
   ]
  },
  {
   "cell_type": "code",
   "execution_count": 56,
   "metadata": {},
   "outputs": [
    {
     "data": {
      "text/plain": [
       "['Portuguese Rosé', 'Portuguese Red', 'Portuguese White']"
      ]
     },
     "execution_count": 56,
     "metadata": {},
     "output_type": "execute_result"
    }
   ],
   "source": [
    "# wine varieties produced by Quinta Nova de Nossa Senhora do Carmo winery\n",
    "q_wines = []\n",
    "for i in range(len(csv_data)):\n",
    "    winery = csv_data[i][4]\n",
    "    variety = csv_data[i][3]\n",
    "    if winery == 'Quinta Nova de Nossa Senhora do Carmo':\n",
    "        q_wines.append(variety)\n",
    "        q_wines = list(set(q_wines))\n",
    "q_wines"
   ]
  },
  {
   "cell_type": "code",
   "execution_count": 55,
   "metadata": {},
   "outputs": [
    {
     "data": {
      "text/plain": [
       "33.33333333333333"
      ]
     },
     "execution_count": 55,
     "metadata": {},
     "output_type": "execute_result"
    }
   ],
   "source": [
    "# percentage of wines produced by Quinta Nova de Nossa Senhora do Carmo and Global Wines\n",
    "for i in range(len(g_wines)):\n",
    "    num = 0\n",
    "    if g_wines[i] in q_wines:\n",
    "        num += 1\n",
    "        pct = (num/len(q_wines)) * 100\n",
    "pct"
   ]
  },
  {
   "cell_type": "code",
   "execution_count": 54,
   "metadata": {},
   "outputs": [
    {
     "data": {
      "text/plain": [
       "10.0"
      ]
     },
     "execution_count": 54,
     "metadata": {},
     "output_type": "execute_result"
    }
   ],
   "source": [
    "# cheapest wine found in the US\n",
    "us_price = []\n",
    "for i in range(len(csv_data)):\n",
    "    country = csv_data[i][0]\n",
    "    price = cell(i, 'price')\n",
    "    if price == None:\n",
    "        continue\n",
    "    if country == 'US':\n",
    "        us_price.append(price)\n",
    "        cheapest = min(us_price)\n",
    "cheapest"
   ]
  },
  {
   "cell_type": "code",
   "execution_count": 53,
   "metadata": {},
   "outputs": [
    {
     "data": {
      "text/plain": [
       "335.0"
      ]
     },
     "execution_count": 53,
     "metadata": {},
     "output_type": "execute_result"
    }
   ],
   "source": [
    "# cost of the cheapest and most expensive wines\n",
    "costliest = max(us_price)\n",
    "two_bottles = costliest + cheapest\n",
    "two_bottles"
   ]
  },
  {
   "cell_type": "code",
   "execution_count": null,
   "metadata": {},
   "outputs": [],
   "source": []
  }
 ],
 "metadata": {
  "kernelspec": {
   "display_name": "Python 3",
   "language": "python",
   "name": "python3"
  },
  "language_info": {
   "codemirror_mode": {
    "name": "ipython",
    "version": 3
   },
   "file_extension": ".py",
   "mimetype": "text/x-python",
   "name": "python",
   "nbconvert_exporter": "python",
   "pygments_lexer": "ipython3",
   "version": "3.7.4"
  }
 },
 "nbformat": 4,
 "nbformat_minor": 2
}
